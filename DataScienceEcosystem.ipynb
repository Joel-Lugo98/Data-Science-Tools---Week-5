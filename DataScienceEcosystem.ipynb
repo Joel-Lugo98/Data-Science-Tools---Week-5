{
 "cells": [
  {
   "cell_type": "markdown",
   "id": "a3372dce-a024-432c-93c6-6fce31af7231",
   "metadata": {},
   "source": [
    "# Data Science Tools and Ecosystem\n"
   ]
  },
  {
   "cell_type": "markdown",
   "id": "cf3195e5-27d9-477c-9dd9-418213ccb281",
   "metadata": {},
   "source": [
    "## In this notebook, Data Science Tools and Ecosystem are summarized"
   ]
  },
  {
   "cell_type": "markdown",
   "id": "0eca0a31-98b9-4ba8-8ad6-573568dfeaa8",
   "metadata": {},
   "source": [
    "**Objectives**\n",
    "- List popular languages for data Data Science\n",
    "- List popular libraries used by Data Scientist\n",
    "- Create code that includes arithmetic expressions "
   ]
  },
  {
   "cell_type": "markdown",
   "id": "4105b6f7-f71e-43d2-a351-640194bf9de3",
   "metadata": {},
   "source": [
    "### Some of the popular languages that Data Scientist use are: \n",
    "1. SQL\n",
    "2. Python\n",
    "3. R\n",
    "4. Java\n",
    "5. Julia\n",
    "6. Scala"
   ]
  },
  {
   "cell_type": "markdown",
   "id": "927a4f35-21a1-4bbb-8111-ea56cdd9d841",
   "metadata": {
    "jp-MarkdownHeadingCollapsed": true
   },
   "source": [
    "### Some of the commonly used libraries used by Data Scientist include:\n",
    "1. NumPy\n",
    "2. Pandas\n",
    "3. Matplotlib\n",
    "4. TensorFlow\n",
    "5. Seaborn\n",
    "6. Keras"
   ]
  },
  {
   "cell_type": "markdown",
   "id": "75f9b013-3317-4bcb-b741-2f95c620faa4",
   "metadata": {},
   "source": [
    "| Data Science Tools |\n",
    "| ------------------- |\n",
    "| Rstudio |\n",
    "| Jupyter Notebook |\n",
    "| Visual Studio Code |"
   ]
  },
  {
   "cell_type": "markdown",
   "id": "04499df3-4669-4e3c-a489-1e6f73c7b8af",
   "metadata": {},
   "source": [
    "### Below are a few examples of evaluating arithmetic expressions in Python"
   ]
  },
  {
   "cell_type": "code",
   "execution_count": 1,
   "id": "85d646db-cb00-46c9-ae83-cc1fd01b54af",
   "metadata": {},
   "outputs": [
    {
     "data": {
      "text/plain": [
       "17"
      ]
     },
     "execution_count": 1,
     "metadata": {},
     "output_type": "execute_result"
    }
   ],
   "source": [
    "#This is a simple arithmetic expression to multiply then add integers\n",
    "(3*4)+5"
   ]
  },
  {
   "cell_type": "code",
   "execution_count": 7,
   "id": "7d8438b2-a9cc-4679-8150-fef1de7e6da3",
   "metadata": {},
   "outputs": [
    {
     "name": "stdout",
     "output_type": "stream",
     "text": [
      "200 minutos equivalen a 3.3333333333333335 horas\n"
     ]
    }
   ],
   "source": [
    "#This will convert 200 minutes to hours by dividing by 60\n",
    "a= \"200 minutos equivalen a\"\n",
    "b= 200/60\n",
    "c= \"horas\"\n",
    "print(a + \" \" + str(b) + \" \" +  c)"
   ]
  },
  {
   "cell_type": "markdown",
   "id": "d894d20d-a97a-4f6f-bb5c-10d17ce87ea4",
   "metadata": {},
   "source": [
    "## Author\n",
    "Joel Lugo "
   ]
  },
  {
   "cell_type": "code",
   "execution_count": null,
   "id": "6b5e930e-6ab2-43e3-a390-4552dcd59b90",
   "metadata": {},
   "outputs": [],
   "source": []
  }
 ],
 "metadata": {
  "kernelspec": {
   "display_name": "Python 3 (ipykernel)",
   "language": "python",
   "name": "python3"
  },
  "language_info": {
   "codemirror_mode": {
    "name": "ipython",
    "version": 3
   },
   "file_extension": ".py",
   "mimetype": "text/x-python",
   "name": "python",
   "nbconvert_exporter": "python",
   "pygments_lexer": "ipython3",
   "version": "3.11.7"
  }
 },
 "nbformat": 4,
 "nbformat_minor": 5
}
